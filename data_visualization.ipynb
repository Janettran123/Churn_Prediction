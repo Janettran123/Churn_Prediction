{
  "nbformat": 4,
  "nbformat_minor": 0,
  "metadata": {
    "colab": {
      "provenance": []
    },
    "kernelspec": {
      "name": "python3",
      "display_name": "Python 3"
    },
    "language_info": {
      "name": "python"
    }
  },
  "cells": [
    {
      "cell_type": "code",
      "execution_count": null,
      "metadata": {
        "id": "hSMh-M1iZSAI"
      },
      "outputs": [],
      "source": [
        "import random\n",
        "import pandas as pd\n",
        "import numpy as np\n",
        "import matplotlib.pyplot as plt\n",
        "import seaborn as sns"
      ]
    },
    {
      "cell_type": "code",
      "source": [
        "avod_2017= pd.read_csv(\"avod_2017.csv\")\n",
        "avod_2018= pd.read_csv(\"avod_2018.csv\")\n",
        "avod_2016= pd.read_csv(\"avod_2016.csv\")\n",
        "avod_2019= pd.read_csv(\"avod_2019.csv\")\n",
        "avod_2020= pd.read_csv(\"avod_2020.csv\")\n",
        "avod_2021= pd.read_csv(\"avod_2021.csv\")\n",
        "avod_2022= pd.read_csv(\"avod_2022.csv\")\n",
        "avod_2023= pd.read_csv(\"avod_2023.csv\")\n",
        "avod_missing= pd.read_csv(\"missing_starttimepst.csv\")\n"
      ],
      "metadata": {
        "id": "_DtNjpvfZkFe"
      },
      "execution_count": null,
      "outputs": []
    },
    {
      "cell_type": "code",
      "source": [
        "# to get average streams per user by year\n",
        "# List of dataframes\n",
        "dataframes = [avod_2019, avod_2020, avod_2021, avod_2022, avod_2023, avod_missing]\n",
        "\n",
        "# Iterate through each dataframe\n",
        "for idx, df in enumerate(dataframes):\n",
        "    # Calculate the stream session count for each user\n",
        "    extid_sessionid_counts = df.groupby('extid')['streamsess'].count()\n",
        "    # Calculate the average stream session count for each user\n",
        "    average_session_count = extid_sessionid_counts.mean()\n",
        "    # Print the average stream session count for each user\n",
        "    print(f\"Average Stream Session Count for Each User in avod_{2019+idx}:\")\n",
        "    print(average_session_count)"
      ],
      "metadata": {
        "id": "XX1GF0LPZndN"
      },
      "execution_count": null,
      "outputs": []
    },
    {
      "cell_type": "code",
      "source": [
        "# to count unique IDs by year\n",
        "\n",
        "unique_extid_values2019 = avod_2019['extid'].unique()\n",
        "unique_ids_count2019 = len(unique_extid_values2019)\n",
        "print(\"Number of unique IDs in 2019:\", unique_ids_count2019)\n",
        "\n",
        "unique_extid_values2020 = avod_2020['extid'].unique()\n",
        "unique_ids_count2020 = len(unique_extid_values2020)\n",
        "print(\"Number of unique IDs in 2020:\", unique_ids_count2020)\n",
        "\n",
        "unique_extid_values2021 = avod_2021['extid'].unique()\n",
        "unique_ids_count2021 = len(unique_extid_values2021)\n",
        "print(\"Number of unique IDs in 2021:\", unique_ids_count2021)\n",
        "\n",
        "unique_extid_values2022 = avod_2022['extid'].unique()\n",
        "unique_ids_count2022 = len(unique_extid_values2022)\n",
        "print(\"Number of unique IDs in 2022:\", unique_ids_count2022)\n",
        "\n",
        "unique_extid_values2023 = avod_2023['extid'].unique()\n",
        "unique_ids_count2023 = len(unique_extid_values2023)\n",
        "print(\"Number of unique IDs in 2023:\", unique_ids_count2023)\n"
      ],
      "metadata": {
        "id": "RVXp50LaZodt"
      },
      "execution_count": null,
      "outputs": []
    },
    {
      "cell_type": "code",
      "source": [
        "# to get overall instances for each platform by year\n",
        "dataframes = [avod_2019, avod_2020, avod_2021, avod_2022, avod_2023, avod_missing]\n",
        "\n",
        "# Loop through each DataFrame\n",
        "for idx, df in enumerate(dataframes, start=2019):\n",
        "    print(f\"Year {idx}:\")\n",
        "    platform_counts = df['plat'].value_counts()\n",
        "    print(platform_counts)\n",
        "    print()"
      ],
      "metadata": {
        "id": "xDNRmLvtZp0a"
      },
      "execution_count": null,
      "outputs": []
    },
    {
      "cell_type": "code",
      "source": [
        "# test code to find percentage for streaming count by viewers in general\n",
        "\n",
        "# Assuming avod_2023 is your DataFrame\n",
        "# Group by 'extid' and count occurrences of 'streamsession'\n",
        "extid_sessionid_counts = avod_2023.groupby('extid')['streamsess'].count()\n",
        "\n",
        "# Count how many times each count of 'streamsession' appears\n",
        "count_counts = extid_sessionid_counts.value_counts()\n",
        "\n",
        "# Calculate the total number of users\n",
        "total_users = count_counts.sum()\n",
        "\n",
        "# Calculate the percentage for each count\n",
        "percentage_counts = (count_counts / total_users) * 100\n",
        "\n",
        "# Create a new DataFrame\n",
        "percentage_dataframe = pd.DataFrame({'Number of Stream Sessions': percentage_counts.index, 'Percentage of Users': percentage_counts.values})\n",
        "\n",
        "# Print the new DataFrame\n",
        "print(percentage_dataframe)"
      ],
      "metadata": {
        "id": "V3vFFhCDZssd"
      },
      "execution_count": null,
      "outputs": []
    },
    {
      "cell_type": "code",
      "source": [
        "# to count stream acitivity of a specific platform\n",
        "\n",
        "# test code to find percentage for stream count by viewers for those on tv\n",
        "\n",
        "tv_data = avod_2023[avod_2023['plat'] == 'tv']\n",
        "\n",
        "# Group by 'extid' and count the number of 'streamsession' for each unique 'extid'\n",
        "extid_tv_sessionid_counts = tv_data.groupby('extid')['streamgsess'].count()\n",
        "\n",
        "# Count how many times each count of 'streamsession' appears\n",
        "count_counts = extid_tv_sessionid_counts.value_counts()\n",
        "\n",
        "# Calculate the total number of users\n",
        "total_users = count_counts.sum()\n",
        "\n",
        "# Calculate the percentage for each count\n",
        "percentage_counts = (count_counts / total_users) * 100\n",
        "\n",
        "# Create a new DataFrame\n",
        "percentage_dataframe = pd.DataFrame({'Number of Stream Sessions': percentage_counts.index, 'tv': percentage_counts.values})\n",
        "\n",
        "top_10_rows = percentage_dataframe.head(20)\n",
        "\n",
        "# Print the new DataFrame\n",
        "print(top_10_rows)"
      ],
      "metadata": {
        "id": "J_mga3-WaNi3"
      },
      "execution_count": null,
      "outputs": []
    }
  ]
}